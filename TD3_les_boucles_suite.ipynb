{
 "cells": [
  {
   "cell_type": "markdown",
   "metadata": {},
   "source": [
    "## Exercice 12\n",
    "1. Ecrire un programme qui demande un entier strictement positif à l'utilisateur puis, tant que cet entier n'est pas égal à 1, le divise par deux s'il est pair ou le multiplie par trois et lui ajoute 1 s'il est impair. Afficher tous les nombres ainsi obtenus."
   ]
  },
  {
   "cell_type": "code",
   "execution_count": null,
   "metadata": {},
   "outputs": [],
   "source": [
    "# Compléter votre code ici\n"
   ]
  },
  {
   "cell_type": "markdown",
   "metadata": {},
   "source": [
    "2. Essayer avec différents nombres. Que constate-t-on ?"
   ]
  },
  {
   "cell_type": "markdown",
   "metadata": {},
   "source": [
    "3. Modifier le programme précédent pour qu'il affiche au final le nombre d'étapes pour arriver au nombre 1 et le nombre maximal qui a été rencontré en chemin. Par exemple, pour le nombre de départ 7, le nombre d'étapes doit être 16 et le nombre rencontré maximum rencontré 52."
   ]
  },
  {
   "cell_type": "code",
   "execution_count": null,
   "metadata": {},
   "outputs": [],
   "source": [
    "# Compléter votre code ici\n"
   ]
  },
  {
   "cell_type": "markdown",
   "metadata": {},
   "source": [
    "3. Modifier encore le programme précédent pour tester tous les nombres de départ entre 1 et 20 et afficher pour chacun le nombre d'étapes et le maximum rencontré."
   ]
  },
  {
   "cell_type": "code",
   "execution_count": null,
   "metadata": {},
   "outputs": [],
   "source": [
    "# Compléter votre code ici\n"
   ]
  },
  {
   "cell_type": "markdown",
   "metadata": {},
   "source": [
    "4. Entre 1 et 20 quel est le nombre donnant le plus grand nombre d'étapes ? donnant le plus grand maximum rencontré ?"
   ]
  },
  {
   "cell_type": "markdown",
   "metadata": {},
   "source": [
    "## Exercice 13\n",
    "Lire, exécuter le programme suivant et répondre aux questions :"
   ]
  },
  {
   "cell_type": "code",
   "execution_count": null,
   "metadata": {},
   "outputs": [],
   "source": [
    "L1 = [1,0,0,0,1,1,0,1]\n",
    "print(L1)\n",
    "print(type(L1))\n",
    "print(len(L1))\n",
    "L2 = [1.414, 0, 3.14]\n",
    "print(L2)\n",
    "print(type(L2))\n",
    "print(len(L2))"
   ]
  },
  {
   "cell_type": "markdown",
   "metadata": {},
   "source": [
    "1. Quel est le type des variables L1 et L2 ?"
   ]
  },
  {
   "cell_type": "markdown",
   "metadata": {},
   "source": [
    "2. Quelle est la syntaxe utilisée pour déclarer une liste ?"
   ]
  },
  {
   "cell_type": "markdown",
   "metadata": {},
   "source": [
    "3. A quoi sert la fonction len() ? On pourra utiliser l'aide de python en tapant `help(len)`."
   ]
  },
  {
   "cell_type": "code",
   "execution_count": null,
   "metadata": {},
   "outputs": [],
   "source": [
    "# Compléter votre code ici\n"
   ]
  },
  {
   "cell_type": "markdown",
   "metadata": {},
   "source": [
    "4. Exécuter le code suivant et expliquer comment on accède au i-eme élément d'une liste."
   ]
  },
  {
   "cell_type": "code",
   "execution_count": null,
   "metadata": {},
   "outputs": [],
   "source": [
    "print(L2[0])\n",
    "print(L2[1])\n",
    "print(L2[2])"
   ]
  },
  {
   "cell_type": "markdown",
   "metadata": {},
   "source": [
    "5. Pour une liste de taille ou de longueur N, quel est l'indice du premier élément de la liste ? du dernier élément de la liste ?"
   ]
  },
  {
   "cell_type": "markdown",
   "metadata": {},
   "source": [
    "6. Ecrire alors un programme permettant de parcourir tous les élements de la liste L1 et d'afficher tous ses éléments :"
   ]
  },
  {
   "cell_type": "code",
   "execution_count": null,
   "metadata": {},
   "outputs": [],
   "source": [
    "# Compléter votre code ici\n"
   ]
  },
  {
   "cell_type": "markdown",
   "metadata": {},
   "source": [
    "7. Expliquer le programme suivant :"
   ]
  },
  {
   "cell_type": "code",
   "execution_count": null,
   "metadata": {},
   "outputs": [],
   "source": [
    "print(L1)\n",
    "L1.reverse()\n",
    "print(L1)"
   ]
  },
  {
   "cell_type": "markdown",
   "metadata": {},
   "source": [
    "8. Exécuter et expliquer le programme suivant en saisissant un nombre binaire (par exemple 1101) :"
   ]
  },
  {
   "cell_type": "code",
   "execution_count": null,
   "metadata": {},
   "outputs": [],
   "source": [
    "nb_bin = input(\"Saississez un nombre binaire : \")\n",
    "print(type(nb_bin), nb_bin)\n",
    "nb_bin = list(nb_bin)\n",
    "print(type(nb_bin), nb_bin)\n",
    "for i in range(len(nb_bin)):\n",
    "    nb_bin[i] = int(nb_bin[i])\n",
    "print(type(nb_bin), nb_bin)"
   ]
  },
  {
   "cell_type": "markdown",
   "metadata": {},
   "source": [
    "## Exercice 14\n",
    "Ecrire un programme qui demande un nombre binaire à l'utilisateur (en base 2), calcule et affiche la valeur décimale (en base 10) correspondante. Par exemple, si l'utilisateur saisit 1101, on doit afficher la valeur 13."
   ]
  },
  {
   "cell_type": "code",
   "execution_count": null,
   "metadata": {},
   "outputs": [],
   "source": [
    "# Compléter votre code ici\n"
   ]
  },
  {
   "cell_type": "markdown",
   "metadata": {},
   "source": [
    "## Exercice 15\n",
    "Lire et exécuter le programme suivant :"
   ]
  },
  {
   "cell_type": "code",
   "execution_count": null,
   "metadata": {},
   "outputs": [],
   "source": [
    "L = []\n",
    "print(L)\n",
    "L.append(1)\n",
    "print(L)\n",
    "L.append(0)\n",
    "print(L)\n",
    "L.append(3)\n",
    "print(L)"
   ]
  },
  {
   "cell_type": "markdown",
   "metadata": {},
   "source": [
    "1. Expliquer à quoi sert la fonction append()."
   ]
  },
  {
   "cell_type": "markdown",
   "metadata": {},
   "source": [
    "2. Ecrire un programme qui demande à l'utilisateur un nombre en base 10, calcule et affiche sa représentation en base 2. Pour la représentation en base 2, on utilisera une liste. Par exemple 13 = [1,1,0,1]."
   ]
  },
  {
   "cell_type": "code",
   "execution_count": null,
   "metadata": {},
   "outputs": [],
   "source": [
    "# Compléter votre code ici\n"
   ]
  },
  {
   "cell_type": "markdown",
   "metadata": {},
   "source": [
    "## Exercice 16\n",
    "1. Ecrire un programme qui demande à l'utilisateur de saisir un nombre binaire, réalise une inversion des bits de ce nombre et affiche le résultat."
   ]
  },
  {
   "cell_type": "code",
   "execution_count": null,
   "metadata": {},
   "outputs": [],
   "source": [
    "# Compléter votre code ici\n"
   ]
  },
  {
   "cell_type": "markdown",
   "metadata": {},
   "source": [
    "2. Compléter le programme précédent pour additionner 1 au mot binaire précédent. On ignorera les dépassements de capacité et on fera attention à la retenue."
   ]
  },
  {
   "cell_type": "code",
   "execution_count": null,
   "metadata": {},
   "outputs": [],
   "source": [
    "# Compléter votre code ici\n"
   ]
  },
  {
   "cell_type": "markdown",
   "metadata": {},
   "source": [
    "3. Explique ce que réalise ce programme."
   ]
  },
  {
   "cell_type": "code",
   "execution_count": null,
   "metadata": {},
   "outputs": [],
   "source": []
  }
 ],
 "metadata": {
  "kernelspec": {
   "display_name": "Python 3",
   "language": "python",
   "name": "python3"
  },
  "language_info": {
   "codemirror_mode": {
    "name": "ipython",
    "version": 3
   },
   "file_extension": ".py",
   "mimetype": "text/x-python",
   "name": "python",
   "nbconvert_exporter": "python",
   "pygments_lexer": "ipython3",
   "version": "3.8.3"
  }
 },
 "nbformat": 4,
 "nbformat_minor": 4
}
