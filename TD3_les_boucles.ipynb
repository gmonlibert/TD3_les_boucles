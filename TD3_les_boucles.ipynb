{
 "cells": [
  {
   "cell_type": "markdown",
   "metadata": {},
   "source": [
    "<table style=\"width:100%;\">\n",
    "    <thead>\n",
    "        <tr>\n",
    "            <th style=\"text-align:center;border:solid;border-width:1px;font-size:20pt;width:70%;\">TD n°3 : Les boucles</th>\n",
    "            <th style=\"text-align:center;border:solid;border-width:1px;font-size:12pt;width:30%\">Thème langages et programmation</th>\n",
    "        </tr>\n",
    "    </thead>\n",
    "</table>"
   ]
  },
  {
   "cell_type": "markdown",
   "metadata": {},
   "source": [
    "Bien souvent dans les programmes, on a besoin de repeter plusieurs fois les mêmes instructions. Au lieu de copier/coller plusieurs fois le même code, on peut utiliser la structure de boucle. Dans ce TD, on va étudier les deux types de boucles disponibles en langage python :\n",
    "* la boucle conditionnelle `while`;\n",
    "* la boucle non conditionnelle `for`.\n",
    "\n",
    "Pour toutes les questions où il faut répondre par du texte, cliquez sur le bouton \"+\" ou \"Insert\", puis \"Insert cell below\" pour insérer une cellule. Remplacez ensuite le type de cellule \"Code\" par \"Texte Brut (pour NB convert)\". Vous pouvez ensuite écrire votre réponse dans la cellule créée."
   ]
  },
  {
   "cell_type": "markdown",
   "metadata": {},
   "source": [
    "# I) La boucle conditionnelle while\n",
    "Elle permet de répéter plusieurs fois un bloc d'instructions tant qu'une condition reste vraie.\n",
    "\n",
    "Lire, exécuter le code suivant et répondre aux questions :"
   ]
  },
  {
   "cell_type": "code",
   "execution_count": null,
   "metadata": {},
   "outputs": [],
   "source": [
    "i = 0\n",
    "while i<6 :\n",
    "    print(i)\n",
    "    i = i + 1"
   ]
  },
  {
   "cell_type": "markdown",
   "metadata": {},
   "source": [
    "## Questions :\n",
    "1. Expliquer ce que fait ce code."
   ]
  },
  {
   "cell_type": "markdown",
   "metadata": {},
   "source": [
    "2. i est appelé un indice de boucle. Pourquoi ?"
   ]
  },
  {
   "cell_type": "markdown",
   "metadata": {},
   "source": [
    "3. Quelle est la syntaxe d'une boucle conditionnelle ?"
   ]
  },
  {
   "cell_type": "markdown",
   "metadata": {},
   "source": [
    "4. Combien de fois est-on passé par la boucle ? Pouvait-on le savoir avant l'exécution du code ?"
   ]
  },
  {
   "cell_type": "markdown",
   "metadata": {},
   "source": [
    "Voici un autre exemple. Lire, exécuter le code plusieurs fois et répondre aux questions."
   ]
  },
  {
   "cell_type": "code",
   "execution_count": null,
   "metadata": {},
   "outputs": [],
   "source": [
    "import random\n",
    "nb = random.randint(1,6)\n",
    "print(nb)\n",
    "while nb!=6 :\n",
    "    nb = random.randint(1,6)\n",
    "    print(nb)"
   ]
  },
  {
   "cell_type": "markdown",
   "metadata": {},
   "source": [
    "## Questions :\n",
    "1. Expliquer ce que fait ce code."
   ]
  },
  {
   "cell_type": "markdown",
   "metadata": {},
   "source": [
    "2. Sait-on à l'avance combien de fois on va passer dans la boucle ?"
   ]
  },
  {
   "cell_type": "markdown",
   "metadata": {},
   "source": [
    "# II) La boucle non conditionnelle for\n",
    "Elle permet de répéter un bloc d'instructions un nombre donné de fois connu à l'avance.\n",
    "\n",
    "Lire, exécuter le code suivant et répondre aux questions :"
   ]
  },
  {
   "cell_type": "code",
   "execution_count": null,
   "metadata": {},
   "outputs": [],
   "source": [
    "for i in range(6):\n",
    "    print(i)"
   ]
  },
  {
   "cell_type": "markdown",
   "metadata": {},
   "source": [
    "# Questions :\n",
    "1. Expliquer ce que fait ce code."
   ]
  },
  {
   "cell_type": "markdown",
   "metadata": {},
   "source": [
    "2. Combien de fois est-on passé dans la boucle for ? pour quelles valeurs de i ? Expliquer alors la signification de `range(6)`. Y a-t-il une autre manière d'écrire range(6) ?"
   ]
  },
  {
   "cell_type": "markdown",
   "metadata": {},
   "source": [
    "3. Quelle est la syntaxe de la boucle for ?"
   ]
  },
  {
   "cell_type": "markdown",
   "metadata": {},
   "source": [
    "4. Comparer ce code avec le premier exemple de la boucle while. Que pensez vous-de ces deux codes ?"
   ]
  },
  {
   "cell_type": "markdown",
   "metadata": {},
   "source": [
    "Il y a aussi des variantes sur l'utilisation de la boucle for. Voici quelques exemples :"
   ]
  },
  {
   "cell_type": "code",
   "execution_count": null,
   "metadata": {},
   "outputs": [],
   "source": [
    "for i in range(10,20):\n",
    "    print(i)"
   ]
  },
  {
   "cell_type": "markdown",
   "metadata": {},
   "source": [
    "5. Expliquer ce que fait le code et la signification de range(10,20)."
   ]
  },
  {
   "cell_type": "code",
   "execution_count": null,
   "metadata": {},
   "outputs": [],
   "source": [
    "for i in range(30,40,2):\n",
    "    print(i)"
   ]
  },
  {
   "cell_type": "markdown",
   "metadata": {},
   "source": [
    "6. Même question pour range(30,40,2)."
   ]
  },
  {
   "cell_type": "code",
   "execution_count": null,
   "metadata": {},
   "outputs": [],
   "source": [
    "for i in range(10,5,-1):\n",
    "    print(i)"
   ]
  },
  {
   "cell_type": "markdown",
   "metadata": {},
   "source": [
    "7. Même question pour range(10,5,-1). Quel est l'intérêt de ce dernier exemple ?"
   ]
  },
  {
   "cell_type": "markdown",
   "metadata": {},
   "source": [
    "# III) Application\n",
    "## Exercice 1\n",
    "Lire et exécuter le programme suivant :"
   ]
  },
  {
   "cell_type": "code",
   "execution_count": null,
   "metadata": {},
   "outputs": [],
   "source": [
    "N = int(input(\"Saisissez un nombre entier positif : \"))\n",
    "som = 0\n",
    "for i in range(1,N+1):\n",
    "    som = som + i\n",
    "print(som)"
   ]
  },
  {
   "cell_type": "markdown",
   "metadata": {},
   "source": [
    "1. Pour la valeur N = 6, expliquer ce que fait ce programme. Pour cela, déterminer les valeurs successives de i et som au fur et à mesure de l'exécution du programme."
   ]
  },
  {
   "cell_type": "markdown",
   "metadata": {},
   "source": [
    "2. Ecrire un programme permettant de calculer la valeur N(N+1)/2. Comparer le résultat obtenu avec le programme précédent et commenter."
   ]
  },
  {
   "cell_type": "code",
   "execution_count": null,
   "metadata": {},
   "outputs": [],
   "source": [
    "# Compléter votre code ici\n"
   ]
  },
  {
   "cell_type": "markdown",
   "metadata": {},
   "source": [
    "## Exercice 2\n",
    "1. Ecrire un programme qui demande à l'utilisateur de saisir un nombre entier positif et calcule le produit des nombres entiers de 1 jusqu'à ce nombre. Par exemple pour 4, le résultat est 1x2x3x4 = 24 (le nombre obtenu ici est appelé factorielle 4)."
   ]
  },
  {
   "cell_type": "code",
   "execution_count": null,
   "metadata": {},
   "outputs": [],
   "source": [
    "# compléter votre code ici\n"
   ]
  },
  {
   "cell_type": "markdown",
   "metadata": {},
   "source": [
    "2. tester votre programme avec plusieurs valeurs dont 100."
   ]
  },
  {
   "cell_type": "markdown",
   "metadata": {},
   "source": [
    "## Exercice 3\n",
    "Ecrire un programme qui demande à l'utilisateur :\n",
    "* une somme initiale s déposée sur un livret (exemple : 1000 €) ;\n",
    "* un taux d'intérêt annuel t exprimé en pourcents (exemple : 4,00%) ;\n",
    "* un nombre d'années n (exemple : 10 ans) ;\n",
    "* et affiche les intérêts perçus et le montant total pour chaque chaque année.\n",
    "\n",
    "Indication : chaque année, il faut ajouter à s la quantité `s*t/100`."
   ]
  },
  {
   "cell_type": "code",
   "execution_count": null,
   "metadata": {},
   "outputs": [],
   "source": [
    "# compléter votre code ici\n"
   ]
  },
  {
   "cell_type": "markdown",
   "metadata": {},
   "source": [
    "## Exercice 4\n",
    "1. Ecrire un programme permettant de :\n",
    "    * saisir le nombre de notes dans une matière ;\n",
    "    * toutes vos notes dans cette matière donnée ;\n",
    "    * de calculer la moyenne correspondante ;\n",
    "    * d'afficher le résultat.\n",
    "\n",
    "On considèrera que toutes les notes sont sur 20 et au même coefficient 1. Exemple : avec les notes 12, 15 et 9, la moyenne vaut 12,0."
   ]
  },
  {
   "cell_type": "code",
   "execution_count": null,
   "metadata": {},
   "outputs": [],
   "source": [
    "# Compléter votre code ici\n"
   ]
  },
  {
   "cell_type": "markdown",
   "metadata": {},
   "source": [
    "2. Modifier le programme précédent pour saisir en plus de la note, le coefficient et calculer la moyenne pondérée, c'est à dire qui tient compte des coefficients. Exemple : avec les notes 12(coeff 2), 15(coeff 1) et 9(coeff 3), la moyenne vaut 11.0.\n",
    "\n",
    "\n",
    "\n"
   ]
  },
  {
   "cell_type": "code",
   "execution_count": null,
   "metadata": {},
   "outputs": [],
   "source": [
    "# Compléter votre code ici\n"
   ]
  },
  {
   "cell_type": "markdown",
   "metadata": {},
   "source": [
    "## Exercice 5\n",
    "1. Ecrire un programme qui demande à l'utilisateur un nombre à l'utilisateur un nombre de bits n, puis n chiffres binaires (0 ou 1), et qui calcule et affiche la valeur décimale du nombre binaire ainsi formé.Pour simplifier, on considère que les bits sont donnés par ordre croissant, c'est à dire du moins fort poids (rang 0) jusqu'au plus fort poids (rang n-1).\n",
    "\n",
    "Exemple : sur 8 bits, 1000 0000<sub>2</sub> = 128<sub>10</sub>"
   ]
  },
  {
   "cell_type": "code",
   "execution_count": null,
   "metadata": {},
   "outputs": [],
   "source": [
    "# Compléter votre code ici\n"
   ]
  },
  {
   "cell_type": "markdown",
   "metadata": {},
   "source": [
    "2. Modifier le programme précédent pour que les bits soient donnés dans l'ordre normal de lecture, c'est à dire du plus fort poids (rang n-1) au plus faible poids (rang 0)."
   ]
  },
  {
   "cell_type": "code",
   "execution_count": null,
   "metadata": {},
   "outputs": [],
   "source": [
    "# Compléter votre code ici\n"
   ]
  },
  {
   "cell_type": "markdown",
   "metadata": {},
   "source": [
    "## Exercice 6\n",
    "Ecrire un programme qui demande à l'utilisateur un entier positif ou nul et affiche son nombre de chiffres. "
   ]
  },
  {
   "cell_type": "code",
   "execution_count": null,
   "metadata": {},
   "outputs": [],
   "source": [
    "# Compléter votre code ici\n"
   ]
  },
  {
   "cell_type": "markdown",
   "metadata": {},
   "source": [
    "## Exercice 8\n",
    "En mathématiques, la très célèbre suite de Fibonacci est une séquence infinie d'entiers définie de la façon suivante : on part des deux nombres entiers 0 et 1, puis on construit à chaque fois l'entier suivant comme la somme des deux précédents.\n",
    "<div style=\"text-align:center;\">0,1,1,2,3,5,...</div>\n",
    "Ecrire un programme qui affiche les termes de la suite qui sont inférieurs à 1000. Indication : on pourra maintenir dans deux variables les deux derniers termes construits."
   ]
  },
  {
   "cell_type": "code",
   "execution_count": null,
   "metadata": {},
   "outputs": [],
   "source": [
    "# Compléter votre code ici\n"
   ]
  },
  {
   "cell_type": "markdown",
   "metadata": {},
   "source": [
    "## Exercice 9\n",
    "Dans le jeu *devine un nombre*, un joueur doit trouver un nombre mystère choisi au préalable par le maitre du jeu, qui sera ici l'ordinateur. A chaque tour, le joueur propose un nombre et le maitre du jeu indique si le nombre mystère est plus petit ou plus grand que le nombre proposé. Si le nombre mystère est 5, par exemple, une partie pourra se dérouler ainsi.\n",
    "\n",
    "    Devine le nombre !\n",
    "    8\n",
    "    plus petit\n",
    "    4\n",
    "    plus grand\n",
    "    6\n",
    "    plus petit\n",
    "    5\n",
    "    Gagné !\n",
    "\n",
    "1. Ecrire un programme permettant de jouer à devine le nombre, avec un nombre à chercher compris entre zéro et cent."
   ]
  },
  {
   "cell_type": "code",
   "execution_count": null,
   "metadata": {},
   "outputs": [],
   "source": [
    "# Compléter votre code ici\n"
   ]
  },
  {
   "cell_type": "markdown",
   "metadata": {},
   "source": [
    "2. Quelle est la stratégie à adopter pour trouver la solution en un minimum de coups ?"
   ]
  },
  {
   "cell_type": "markdown",
   "metadata": {},
   "source": [
    "## Exercice 10\n",
    "Le jeu des allumettes est un jeu à deux joueurs qui se joue ainsi. Initialement, 21 allumettes sont posées sur la table. A tour de rôle, chaque joueur enlève une, deux ou trois allumettes. celui qui enlève la dernière allumette a perdu. Nous allons écrire un programme qui permet de jouer contre l'ordinateur.\n",
    "1. A l'aide d'une boucle `while` et d'une variable `allumettes` contenant le nombre courant d'allumettes, écrire un programme qui permet à l'utilisateur d'indiquer combien d'allumettes il enlève, puis à l'ordinateur d'enlever un nombre aléatoire d'allumettes (au moins une et pas plus de trois), tant qu'il reste des allumettes. Au début de chaque tour de boucle, on affichera le nombre actuel d'allumettes. L'exécution doit ressembler à quelque chose comme ça :\n",
    "\n",
    "        Il y a 21 allumettes\n",
    "        Combien en prenez-vous ? 3\n",
    "        Je prends 2 allumettes\n",
    "        Il y a 16 allumettes\n",
    "        Combien en prenez-vous ? 1\n",
    "        ...\n",
    "\n",
    "Attention à ne pas faire retirer à l'ordinateur plus d'allumettes qu'il n'en reste."
   ]
  },
  {
   "cell_type": "code",
   "execution_count": null,
   "metadata": {},
   "outputs": [],
   "source": [
    "# Compléter votre code ici\n"
   ]
  },
  {
   "cell_type": "markdown",
   "metadata": {},
   "source": [
    "2. Améliorer le programme pour qu'il affiche `Vous avez perdu` ou `Vous avez gagné` lorsque la dernière allumette est retirée, juste avant de sortir de la boucle."
   ]
  },
  {
   "cell_type": "code",
   "execution_count": null,
   "metadata": {},
   "outputs": [],
   "source": [
    "# Compléter votre code ici\n",
    "          "
   ]
  },
  {
   "cell_type": "markdown",
   "metadata": {},
   "source": [
    "3. Améliorer encore le programme pour qu'il s'assure que le nombre d'allumettes choisi par le joueur est bien au moins égal à un, au plus égal à trois et pas plus grand que le nombre d'allumettes restantes. On pourra utiliser une boucle `while` pour répéter la saisie tant que la valeur n'est pas correcte."
   ]
  },
  {
   "cell_type": "code",
   "execution_count": null,
   "metadata": {},
   "outputs": [],
   "source": [
    "# Compléter votre code ici\n",
    "  "
   ]
  },
  {
   "cell_type": "markdown",
   "metadata": {},
   "source": [
    "4. Il se trouve qu'il existe une stratégie gagnante pour le joueur qui joue en second. La trouver et la programmer, de manière à ce que l'ordinateur gagne systématiquement (et impressionner vos amis avec votre programme d'\"intelligence artificielle\")."
   ]
  },
  {
   "cell_type": "code",
   "execution_count": null,
   "metadata": {},
   "outputs": [],
   "source": [
    "# Compléter votre code ici\n"
   ]
  },
  {
   "cell_type": "markdown",
   "metadata": {},
   "source": [
    "## Exercice 11\n",
    "1. Ecrire un programme qui demande à l'utilisateur un nombre entier positif, puis détermine et affiche les bits obtenus par divisions euclidienne successives par 2. Exemple : si on saisit 13, on doit afficher 1, puis 0, puis 1, puis 1 (ce qui correspond bien à 1101)"
   ]
  },
  {
   "cell_type": "code",
   "execution_count": null,
   "metadata": {},
   "outputs": [],
   "source": [
    "# Compléter votre code ici\n"
   ]
  },
  {
   "cell_type": "markdown",
   "metadata": {},
   "source": [
    "2. Modifier le programme précédent pour pouvoir afficher le nombre dans le bon ordre et en une seule fois (dans l'exemple précédent, on doit donc afficher 1011)."
   ]
  },
  {
   "cell_type": "code",
   "execution_count": null,
   "metadata": {},
   "outputs": [],
   "source": [
    "# Compléter votre code ici\n"
   ]
  }
 ],
 "metadata": {
  "kernelspec": {
   "display_name": "Python 3",
   "language": "python",
   "name": "python3"
  },
  "language_info": {
   "codemirror_mode": {
    "name": "ipython",
    "version": 3
   },
   "file_extension": ".py",
   "mimetype": "text/x-python",
   "name": "python",
   "nbconvert_exporter": "python",
   "pygments_lexer": "ipython3",
   "version": "3.8.3"
  }
 },
 "nbformat": 4,
 "nbformat_minor": 4
}
