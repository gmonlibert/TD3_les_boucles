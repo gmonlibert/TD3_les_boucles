{
 "cells": [
  {
   "cell_type": "markdown",
   "metadata": {},
   "source": [
    "<table style=\"width:100%;\">\n",
    "    <thead>\n",
    "        <tr>\n",
    "            <th style=\"text-align:center;border:solid;border-width:1px;font-size:20pt;width:70%;\">TD n°3 : Les boucles</th>\n",
    "            <th style=\"text-align:center;border:solid;border-width:1px;font-size:12pt;width:30%\">Thème langages et programmation</th>\n",
    "        </tr>\n",
    "    </thead>\n",
    "</table>"
   ]
  },
  {
   "cell_type": "markdown",
   "metadata": {},
   "source": [
    "Bien souvent dans les programmes, on a besoin de repeter plusieurs fois les mêmes instructions. Au lieu de copier/coller plusieurs fois le même code, on peut utiliser la structure de boucle. Dans ce TD, on va étudier les deux types de boucles disponibles en langage python :\n",
    "* la boucle conditionnelle `while`;\n",
    "* la boucle non conditionnelle `for`."
   ]
  },
  {
   "cell_type": "markdown",
   "metadata": {},
   "source": [
    "# I) La boucle conditionnelle while\n",
    "Elle permet de répéter plusieurs fois un bloc d'instructions tant qu'une condition reste vraie.\n",
    "\n",
    "Lire, exécuter le code suivant et répondre aux questions :"
   ]
  },
  {
   "cell_type": "code",
   "execution_count": 1,
   "metadata": {},
   "outputs": [
    {
     "name": "stdout",
     "output_type": "stream",
     "text": [
      "0\n",
      "1\n",
      "2\n",
      "3\n",
      "4\n",
      "5\n"
     ]
    }
   ],
   "source": [
    "i = 0\n",
    "while i<6 :\n",
    "    print(i)\n",
    "    i = i + 1"
   ]
  },
  {
   "cell_type": "markdown",
   "metadata": {},
   "source": [
    "## Questions :\n",
    "1. Expliquer ce que fait ce code."
   ]
  },
  {
   "cell_type": "raw",
   "metadata": {},
   "source": [
    "Ce code permet d'incrémenter i de + 1 (incrémenter signifie augmenter) et d'afficher les valeurs de i tant que i < 6."
   ]
  },
  {
   "cell_type": "markdown",
   "metadata": {},
   "source": [
    "2. i est appelé un indice de boucle. Pourquoi ?"
   ]
  },
  {
   "cell_type": "raw",
   "metadata": {},
   "source": [
    "A chaque passage dans la boucle la valeur de i est augmentée de + 1."
   ]
  },
  {
   "cell_type": "markdown",
   "metadata": {},
   "source": [
    "3. Quelle est la syntaxe d'une boucle conditionnelle ?"
   ]
  },
  {
   "cell_type": "raw",
   "metadata": {},
   "source": [
    "while condition :\n",
    "    bloc d'instructions\n",
    "- on utilise le mot clé while suivi d'une condition puis de deux points :\n",
    "- Le bloc d'instructions en retrait (avec une tabulation) n'est exécuté que si la condition est vérifiée."
   ]
  },
  {
   "cell_type": "markdown",
   "metadata": {},
   "source": [
    "4. Combien de fois est-on passé par la boucle ? Pouvait-on le savoir avant l'exécution du code ?"
   ]
  },
  {
   "cell_type": "raw",
   "metadata": {},
   "source": [
    "on est passé 6 fois dans la boucle car i varie de 0 à 5 (i<6). On pouvait le prévoir avant l'exécution du code."
   ]
  },
  {
   "cell_type": "markdown",
   "metadata": {},
   "source": [
    "Voici un autre exemple. Lire, exécuter le code plusieurs fois et répondre aux questions."
   ]
  },
  {
   "cell_type": "code",
   "execution_count": 3,
   "metadata": {},
   "outputs": [
    {
     "name": "stdout",
     "output_type": "stream",
     "text": [
      "2\n",
      "4\n",
      "5\n",
      "1\n",
      "6\n"
     ]
    }
   ],
   "source": [
    "import random\n",
    "nb = random.randint(1,6)\n",
    "print(nb)\n",
    "while nb!=6 :\n",
    "    nb = random.randint(1,6)\n",
    "    print(nb)"
   ]
  },
  {
   "cell_type": "markdown",
   "metadata": {},
   "source": [
    "## Questions :\n",
    "1. Expliquer ce que fait ce code."
   ]
  },
  {
   "cell_type": "raw",
   "metadata": {},
   "source": [
    "Ce code génére un nombre aléatoire entre 1 et 6 et l'affiche. Il continue à faire cela tant que le nombre généré est différent de 6."
   ]
  },
  {
   "cell_type": "markdown",
   "metadata": {},
   "source": [
    "2. Sait-on à l'avance combien de fois on va passer dans la boucle ?"
   ]
  },
  {
   "cell_type": "raw",
   "metadata": {},
   "source": [
    "Non. On ne sait pas combien de fois on passe dans la boucle while car cela dépend des nombres générés aléatoirement par l'ordinateur."
   ]
  },
  {
   "cell_type": "markdown",
   "metadata": {},
   "source": [
    "# II) La boucle non conditionnelle for\n",
    "Elle permet de répéter un bloc d'instructions un nombre donné de fois connu à l'avance.\n",
    "\n",
    "Lire, exécuter le code suivant et répondre aux questions :"
   ]
  },
  {
   "cell_type": "code",
   "execution_count": 4,
   "metadata": {},
   "outputs": [
    {
     "name": "stdout",
     "output_type": "stream",
     "text": [
      "0\n",
      "1\n",
      "2\n",
      "3\n",
      "4\n",
      "5\n"
     ]
    }
   ],
   "source": [
    "for i in range(6):\n",
    "    print(i)"
   ]
  },
  {
   "cell_type": "markdown",
   "metadata": {},
   "source": [
    "# Questions :\n",
    "1. Expliquer ce que fait ce code."
   ]
  },
  {
   "cell_type": "raw",
   "metadata": {},
   "source": [
    "Il affiche les valeurs de i pour i allant de 0 à 6."
   ]
  },
  {
   "cell_type": "markdown",
   "metadata": {},
   "source": [
    "2. Combien de fois est-on passé dans la boucle for ? pour quelles valeurs de i ? Expliquer alors la signification de `range(6)`. Y a-t-il une autre manière d'écrire range(6) ?"
   ]
  },
  {
   "cell_type": "raw",
   "metadata": {},
   "source": [
    "On est passé 6 fois dans la boucle car i prend les valeurs entières de 0 à 6. range(6) signifie tous les entiers allant de 0 inclu à 6 exclu. On pouvait aussi écrire range(0,6). Par défaut, il n'est pas nécessaire de mettre le 0 si on demarre à 0."
   ]
  },
  {
   "cell_type": "markdown",
   "metadata": {},
   "source": [
    "3. Quelle est la syntaxe de la boucle for ?"
   ]
  },
  {
   "cell_type": "raw",
   "metadata": {},
   "source": [
    "for variable in range(N):\n",
    "    bloc d'instructions\n",
    "- on utilise le mot clé for suivi d'une variable (i par exemple) puis in suivi de range(N) et deux points \":\". range(N) permet de préciser combien de fois on va passer dans la boucle et pour quelles valeurs de la variable.\n",
    "- le bloc d'instructions en retrait (avec une tabulation) est exécuté le nombre de fois correspondant."
   ]
  },
  {
   "cell_type": "markdown",
   "metadata": {},
   "source": [
    "4. Comparer ce code avec le premier exemple de la boucle while. Que pensez vous-de ces deux codes ?"
   ]
  },
  {
   "cell_type": "raw",
   "metadata": {},
   "source": [
    "Ils sont presques identiques car i prend les valeurs 0,1,2,3,4,5 dans les deux cas. Pour la boucle while i prend la valeur 6 avant de sortir de la boucle, ce qui n'est pas le cas pour la boucle for."
   ]
  },
  {
   "cell_type": "markdown",
   "metadata": {},
   "source": [
    "Il y a aussi des variantes sur l'utilisation de la boucle for. Voici quelques exemples :"
   ]
  },
  {
   "cell_type": "code",
   "execution_count": 7,
   "metadata": {},
   "outputs": [
    {
     "name": "stdout",
     "output_type": "stream",
     "text": [
      "10\n",
      "11\n",
      "12\n",
      "13\n",
      "14\n",
      "15\n",
      "16\n",
      "17\n",
      "18\n",
      "19\n"
     ]
    }
   ],
   "source": [
    "for i in range(10,20):\n",
    "    print(i)"
   ]
  },
  {
   "cell_type": "markdown",
   "metadata": {},
   "source": [
    "5. Expliquer ce que fait le code et la signification de range(10,20)."
   ]
  },
  {
   "cell_type": "raw",
   "metadata": {},
   "source": [
    "i prend toutes les valeurs entières de 10 inclu à 20 exlu (c'est à dire de 10 à 19)."
   ]
  },
  {
   "cell_type": "code",
   "execution_count": 8,
   "metadata": {},
   "outputs": [
    {
     "name": "stdout",
     "output_type": "stream",
     "text": [
      "30\n",
      "32\n",
      "34\n",
      "36\n",
      "38\n"
     ]
    }
   ],
   "source": [
    "for i in range(30,40,2):\n",
    "    print(i)"
   ]
  },
  {
   "cell_type": "markdown",
   "metadata": {},
   "source": [
    "6. Même question pour range(30,40,2)."
   ]
  },
  {
   "cell_type": "raw",
   "metadata": {},
   "source": [
    "i prend toutes le valeurs entières de 30 inclu à 40 exclu par pas de 2."
   ]
  },
  {
   "cell_type": "code",
   "execution_count": 9,
   "metadata": {},
   "outputs": [
    {
     "name": "stdout",
     "output_type": "stream",
     "text": [
      "10\n",
      "9\n",
      "8\n",
      "7\n",
      "6\n"
     ]
    }
   ],
   "source": [
    "for i in range(10,5,-1):\n",
    "    print(i)"
   ]
  },
  {
   "cell_type": "markdown",
   "metadata": {},
   "source": [
    "7. Même question pour range(10,5,-1). Quel est l'intérêt de ce dernier exemple ?"
   ]
  },
  {
   "cell_type": "raw",
   "metadata": {},
   "source": [
    "On parcourt toutes les valeurs entières de 10 inclu à 5 exclu en décroissant. "
   ]
  },
  {
   "cell_type": "markdown",
   "metadata": {},
   "source": [
    "# III) Application\n",
    "## Exercice 1\n",
    "Lire et exécuter le programme suivant :"
   ]
  },
  {
   "cell_type": "code",
   "execution_count": 11,
   "metadata": {},
   "outputs": [
    {
     "name": "stdout",
     "output_type": "stream",
     "text": [
      "Saisissez un nombre entier positif : 6\n",
      "21\n"
     ]
    }
   ],
   "source": [
    "N = int(input(\"Saisissez un nombre entier positif : \"))\n",
    "som = 0\n",
    "for i in range(1,N+1):\n",
    "    som = som + i\n",
    "print(som)"
   ]
  },
  {
   "cell_type": "markdown",
   "metadata": {},
   "source": [
    "1. Pour la valeur N = 6, expliquer ce que fait ce programme. Pour cela, déterminer les valeurs successives de i et som au fur et à mesure de l'exécution du programme."
   ]
  },
  {
   "cell_type": "raw",
   "metadata": {},
   "source": [
    "som = 0\n",
    "---\n",
    "i = 1\n",
    "som = som + i = 0 + 1 = 1\n",
    "---\n",
    "i = 2\n",
    "som = som + i = 1 + 2 = 3\n",
    "---\n",
    "i = 3\n",
    "som = som + i = 3 + 3 = 6\n",
    "---\n",
    "i = 4\n",
    "som = som + i = 6 + 4 = 10\n",
    "---\n",
    "i = 5\n",
    "som = som + i = 10 + 5 = 15\n",
    "---\n",
    "i = 6\n",
    "som = som + i = 15 + 6 = 21\n",
    "\n",
    "Au final, on constate que som = 1 + 2 + 3 + 4 + 5 + 6 = 21. Ce programme calcule la somme des N premiers entiers. La variable som est appelée un accumulateur."
   ]
  },
  {
   "cell_type": "markdown",
   "metadata": {},
   "source": [
    "2. Ecrire un programme permettant de calculer la valeur N(N+1)/2. Comparer le résultat obtenu avec le programme précédent et commenter."
   ]
  },
  {
   "cell_type": "code",
   "execution_count": 12,
   "metadata": {},
   "outputs": [
    {
     "name": "stdout",
     "output_type": "stream",
     "text": [
      "21\n"
     ]
    }
   ],
   "source": [
    "# Compléter votre code ici\n",
    "som  = N*(N+1)//2\n",
    "print(som)"
   ]
  },
  {
   "cell_type": "raw",
   "metadata": {},
   "source": [
    "On constate que sans faire une boucle, on peut faire le calcul de la somme directement, ce qui est plus rapide."
   ]
  },
  {
   "cell_type": "markdown",
   "metadata": {},
   "source": [
    "## Exercice 2\n",
    "1. Ecrire un programme qui demande à l'utilisateur de saisir un nombre entier positif et calcule le produit des nombres entiers de 1 jusqu'à ce nombre. Par exemple pour 4, le résultat est 1x2x3x4 = 24 (le nombre obtenu ici est appelé factorielle 4)."
   ]
  },
  {
   "cell_type": "code",
   "execution_count": 13,
   "metadata": {},
   "outputs": [
    {
     "name": "stdout",
     "output_type": "stream",
     "text": [
      "Nombre entier : 4\n",
      "Resultat :  24\n"
     ]
    }
   ],
   "source": [
    "# compléter votre code ici\n",
    "N = int(input(\"Nombre entier : \"))\n",
    "som = 1\n",
    "for i in range(1,N+1):\n",
    "    som = som*i\n",
    "print(\"Resultat : \", som)"
   ]
  },
  {
   "cell_type": "markdown",
   "metadata": {},
   "source": [
    "2. tester votre programme avec plusieurs valeurs dont 100."
   ]
  },
  {
   "cell_type": "markdown",
   "metadata": {},
   "source": [
    "## Exercice 3\n",
    "Ecrire un programme qui demande à l'utilisateur :\n",
    "* une somme initiale s déposée sur un livret (exemple : 1000 €) ;\n",
    "* un taux d'intérêt annuel t exprimé en pourcents (exemple : 4,00%) ;\n",
    "* un nombre d'années n (exemple : 10 ans) ;\n",
    "* et affiche les intérêts perçus et le montant total pour chaque chaque année.\n",
    "\n",
    "Indication : chaque année, il faut ajouter à s la quantité `s*t/100`."
   ]
  },
  {
   "cell_type": "code",
   "execution_count": null,
   "metadata": {},
   "outputs": [],
   "source": [
    "s = int(input(\"somme : \"))\n",
    "t = int(input(\"taux : \"))\n",
    "n = int(input(\"nombre d'années : \"))\n",
    "for i in range(n):\n",
    "    interets = s*t/100\n",
    "    s = s + interets\n",
    "    print(\"Année {} : intérêts = {:.2f} €, somme = {:.2f} €\".format(i,interets,s))"
   ]
  },
  {
   "cell_type": "markdown",
   "metadata": {},
   "source": [
    "## Exercice 4\n",
    "1. Ecrire un programme permettant de :\n",
    "    * saisir le nombre de notes dans une matière ;\n",
    "    * toutes vos notes dans cette matière donnée ;\n",
    "    * de calculer la moyenne correspondante ;\n",
    "    * d'afficher le résultat.\n",
    "\n",
    "On considèrera que toutes les notes sont sur 20 et au même coefficient 1. Exemple : avec les notes 12, 15 et 9, la moyenne vaut 12,0."
   ]
  },
  {
   "cell_type": "code",
   "execution_count": 14,
   "metadata": {},
   "outputs": [
    {
     "name": "stdout",
     "output_type": "stream",
     "text": [
      "Nombre de notes : 3\n",
      "Saisissez une note : 12\n",
      "Saisissez une note : 15\n",
      "Saisissez une note : 9\n",
      "Moyenne :  12.0\n"
     ]
    }
   ],
   "source": [
    "# Compléter votre code ici\n",
    "N = int(input(\"Nombre de notes : \"))\n",
    "som = 0\n",
    "for i in range(N):\n",
    "    note = int(input(\"Saisissez une note : \"))\n",
    "    som = som + note\n",
    "moy = som/N\n",
    "print(\"Moyenne : \", moy)"
   ]
  },
  {
   "cell_type": "markdown",
   "metadata": {},
   "source": [
    "2. Modifier le programme précédent pour saisir en plus de la note, le coefficient et calculer la moyenne pondérée, c'est à dire qui tient compte des coefficients. Exemple : avec les notes 12(coeff 2), 15(coeff 1) et 9(coeff 3), la moyenne vaut 11.0.\n",
    "\n",
    "\n",
    "\n"
   ]
  },
  {
   "cell_type": "code",
   "execution_count": 15,
   "metadata": {},
   "outputs": [
    {
     "name": "stdout",
     "output_type": "stream",
     "text": [
      "Nombre de notes : 3\n",
      "Saisissez une note : 12\n",
      "Coefficient : 2\n",
      "Saisissez une note : 15\n",
      "Coefficient : 1\n",
      "Saisissez une note : 9\n",
      "Coefficient : 3\n",
      "Moyenne :  11.0\n"
     ]
    }
   ],
   "source": [
    "# Compléter votre code ici\n",
    "N = int(input(\"Nombre de notes : \"))\n",
    "som = 0\n",
    "total_coef = 0\n",
    "for i in range(N):\n",
    "    note = int(input(\"Saisissez une note : \"))\n",
    "    coef = int(input(\"Coefficient : \"))\n",
    "    som = som + note*coef\n",
    "    total_coef = total_coef + coef\n",
    "moy = som/total_coef\n",
    "print(\"Moyenne : \", moy)"
   ]
  },
  {
   "cell_type": "markdown",
   "metadata": {},
   "source": [
    "## Exercice 5\n",
    "1. Ecrire un programme qui demande à l'utilisateur un nombre à l'utilisateur un nombre de bits n, puis n chiffres binaires (0 ou 1), et qui calcule et affiche la valeur décimale du nombre binaire ainsi formé.Pour simplifier, on considère que les bits sont donnés par ordre croissant, c'est à dire du moins fort poids (rang 0) jusqu'au plus fort poids (rang n-1).\n",
    "\n",
    "Exemple : sur 8 bits, 1000 0000<sub>2</sub> = 128<sub>10</sub>"
   ]
  },
  {
   "cell_type": "code",
   "execution_count": 16,
   "metadata": {},
   "outputs": [
    {
     "name": "stdout",
     "output_type": "stream",
     "text": [
      "nombre de bits : 8\n",
      "bit n° 0 : 0\n",
      "bit n° 1 : 0\n",
      "bit n° 2 : 0\n",
      "bit n° 3 : 0\n",
      "bit n° 4 : 0\n",
      "bit n° 5 : 0\n",
      "bit n° 6 : 0\n",
      "bit n° 7 : 1\n",
      "Valeur décimale :  128\n"
     ]
    }
   ],
   "source": [
    "# Compléter votre code ici\n",
    "n = int(input(\"nombre de bits : \"))\n",
    "som = 0\n",
    "for i in range(n):\n",
    "    b = int(input(\"bit n° {} : \".format(i)))\n",
    "    som = som + b*2**i\n",
    "print(\"Valeur décimale : \", som)"
   ]
  },
  {
   "cell_type": "markdown",
   "metadata": {},
   "source": [
    "2. Modifier le programme précédent pour que les bits soient donnés dans l'ordre normal de lecture, c'est à dire du plus fort poids (rang n-1) au plus faible poids (rang 0)."
   ]
  },
  {
   "cell_type": "code",
   "execution_count": 17,
   "metadata": {},
   "outputs": [
    {
     "name": "stdout",
     "output_type": "stream",
     "text": [
      "nombre de bits : 8\n",
      "bit n° 7 : 1\n",
      "bit n° 6 : 0\n",
      "bit n° 5 : 0\n",
      "bit n° 4 : 0\n",
      "bit n° 3 : 0\n",
      "bit n° 2 : 0\n",
      "bit n° 1 : 0\n",
      "bit n° 0 : 0\n",
      "Valeur décimale :  128\n"
     ]
    }
   ],
   "source": [
    "# Compléter votre code ici\n",
    "n = int(input(\"nombre de bits : \"))\n",
    "som = 0\n",
    "for i in range(n):\n",
    "    b = int(input(\"bit n° {} : \".format(n-i-1)))\n",
    "    som = som + b*2**(n-i-1)\n",
    "print(\"Valeur décimale : \", som)"
   ]
  },
  {
   "cell_type": "code",
   "execution_count": 19,
   "metadata": {},
   "outputs": [
    {
     "name": "stdout",
     "output_type": "stream",
     "text": [
      "nombre de bits : 8\n",
      "bit n° 7 : 1\n",
      "bit n° 6 : 0\n",
      "bit n° 5 : 0\n",
      "bit n° 4 : 0\n",
      "bit n° 3 : 0\n",
      "bit n° 2 : 0\n",
      "bit n° 1 : 0\n",
      "bit n° 0 : 0\n",
      "Valeur décimale :  128\n"
     ]
    }
   ],
   "source": [
    "# Compléter votre code ici\n",
    "n = int(input(\"nombre de bits : \"))\n",
    "som = 0\n",
    "for i in range(n-1,-1,-1):\n",
    "    b = int(input(\"bit n° {} : \".format(i)))\n",
    "    som = som + b*2**(i)\n",
    "print(\"Valeur décimale : \", som)"
   ]
  },
  {
   "cell_type": "markdown",
   "metadata": {},
   "source": [
    "## Exercice 6\n",
    "Ecrire un programme qui demande à l'utilisateur un entier positif ou nul et affiche son nombre de chiffres. "
   ]
  },
  {
   "cell_type": "code",
   "execution_count": 20,
   "metadata": {},
   "outputs": [
    {
     "name": "stdout",
     "output_type": "stream",
     "text": [
      "Nombre entier positif ou nul : 1000\n",
      "nombre de chiffres :  4\n"
     ]
    }
   ],
   "source": [
    "# Compléter votre code ici\n",
    "N = int(input(\"Nombre entier positif ou nul : \"))\n",
    "q = N//10\n",
    "nb = 1\n",
    "while q!=0 :\n",
    "    nb = nb + 1\n",
    "    q = q//10\n",
    "print(\"nombre de chiffres : \", nb)"
   ]
  },
  {
   "cell_type": "markdown",
   "metadata": {},
   "source": [
    "## Exercice 8\n",
    "En mathématiques, la très célèbre suite de Fibonacci est une séquence infinie d'entiers définie de la façon suivante : on part des deux nombres entiers 0 et 1, puis on construit à chaque fois l'entier suivant comme la somme des deux précédents.\n",
    "<div style=\"text-align:center;\">0,1,1,2,3,5,...</div>\n",
    "Ecrire un programme qui affiche les termes de la suite qui sont inférieurs à 1000. Indication : on pourra maintenir dans deux variables les deux derniers termes construits."
   ]
  },
  {
   "cell_type": "code",
   "execution_count": 22,
   "metadata": {},
   "outputs": [
    {
     "name": "stdout",
     "output_type": "stream",
     "text": [
      "0\n",
      "1\n",
      "1\n",
      "2\n",
      "3\n",
      "5\n",
      "8\n",
      "13\n",
      "21\n",
      "34\n",
      "55\n",
      "89\n",
      "144\n",
      "233\n",
      "377\n",
      "610\n",
      "987\n"
     ]
    }
   ],
   "source": [
    "# Compléter votre code ici\n",
    "x = 0\n",
    "y = 1\n",
    "z = x + y\n",
    "print(x)\n",
    "print(y)\n",
    "while z < 1000 :\n",
    "    print(z)\n",
    "    x = y\n",
    "    y = z\n",
    "    z = x + y"
   ]
  },
  {
   "cell_type": "markdown",
   "metadata": {},
   "source": [
    "## Exercice 9\n",
    "Dans le jeu *devine un nombre*, un joueur doit trouver un nombre mystère choisi au préalable par le maitre du jeu, qui sera ici l'ordinateur. A chaque tour, le joueur propose un nombre et le maitre du jeu indique si le nombre mystère est plus petit ou plus grand que le nombre proposé. Si le nombre mystère est 5, par exemple, une partie pourra se dérouler ainsi.\n",
    "\n",
    "    Devine le nombre !\n",
    "    8\n",
    "    plus petit\n",
    "    4\n",
    "    plus grand\n",
    "    6\n",
    "    plus petit\n",
    "    5\n",
    "    Gagné !\n",
    "\n",
    "1. Ecrire un programme permettant de jouer à devine le nombre, avec un nombre à chercher compris entre zéro et cent."
   ]
  },
  {
   "cell_type": "code",
   "execution_count": 23,
   "metadata": {},
   "outputs": [
    {
     "name": "stdout",
     "output_type": "stream",
     "text": [
      "Devine le nombre  !\n",
      "50\n",
      "plus grand\n",
      "75\n",
      "plus petit\n",
      "63\n",
      "plus petit\n",
      "56\n",
      "plus grand\n",
      "60\n",
      "plus petit\n",
      "58\n",
      "plus petit\n",
      "57\n",
      "Gagné !\n"
     ]
    }
   ],
   "source": [
    "# Compléter votre code ici\n",
    "import random\n",
    "N = random.randint(0,100)\n",
    "nb = int(input(\"Devine le nombre  !\\n\"))\n",
    "while nb!=N :\n",
    "    if N < nb :\n",
    "        nb = int(input(\"plus petit\\n\"))\n",
    "    else :\n",
    "        nb = int(input(\"plus grand\\n\"))\n",
    "print(\"Gagné !\")"
   ]
  },
  {
   "cell_type": "markdown",
   "metadata": {},
   "source": [
    "2. Quelle est la stratégie à adopter pour trouver la solution en un minimum de coups ?"
   ]
  },
  {
   "cell_type": "markdown",
   "metadata": {},
   "source": [
    "## Exercice 10\n",
    "Le jeu des allumettes est un jeu à deux joueurs qui se joue ainsi. Initialement, 21 allumettes sont posées sur la table. A tour de rôle, chaque joueur enlève une, deux ou trois allumettes. celui qui enlève la dernière allumette a perdu. Nous allons écrire un programme qui permet de jouer contre l'ordinateur.\n",
    "1. A l'aide d'une boucle `while` et d'une variable `allumettes` contenant le nombre courant d'allumettes, écrire un programme qui permet à l'utilisateur d'indiquer combien d'allumettes il enlève, puis à l'ordinateur d'enlever un nombre aléatoire d'allumettes (au moins une et pas plus de trois), tant qu'il reste des allumettes. Au début de chaque tour de boucle, on affichera le nombre actuel d'allumettes. L'exécution doit ressembler à quelque chose comme ça :\n",
    "\n",
    "        Il y a 21 allumettes\n",
    "        Combien en prenez-vous ? 3\n",
    "        Je prends 2 allumettes\n",
    "        Il y a 16 allumettes\n",
    "        Combien en prenez-vous ? 1\n",
    "        ...\n",
    "\n",
    "Attention à ne pas faire retirer à l'ordinateur plus d'allumettes qu'il n'en reste."
   ]
  },
  {
   "cell_type": "code",
   "execution_count": 25,
   "metadata": {},
   "outputs": [
    {
     "name": "stdout",
     "output_type": "stream",
     "text": [
      "---\n",
      "Il y a 21 allumettes\n",
      "Combien en prenez-vous ? 3\n",
      "je prends 3 allumettes\n",
      "---\n",
      "Il y a 15 allumettes\n",
      "Combien en prenez-vous ? 3\n",
      "je prends 1 allumettes\n",
      "---\n",
      "Il y a 11 allumettes\n",
      "Combien en prenez-vous ? 3\n",
      "je prends 2 allumettes\n",
      "---\n",
      "Il y a 6 allumettes\n",
      "Combien en prenez-vous ? 3\n",
      "je prends 3 allumettes\n"
     ]
    }
   ],
   "source": [
    "# Compléter votre code ici\n",
    "import random\n",
    "allumettes = 21\n",
    "while allumettes > 0 :\n",
    "    print(\"---\\nIl y a {} allumettes\".format(allumettes))\n",
    "    # choix du joueur\n",
    "    nb_joueur = int(input(\"Combien en prenez-vous ? \"))\n",
    "    allumettes = allumettes - nb_joueur\n",
    "    # choix de l'ordinateur\n",
    "    if allumettes >= 3:\n",
    "        nb_ordi = random.randint(1,3)\n",
    "    elif allumettes == 2:\n",
    "        nb_ordi = random.randint(1,2)\n",
    "    elif allumettes == 1:\n",
    "        nb_ordi = 1\n",
    "    else :\n",
    "        nb_ordi = 0\n",
    "    print(\"je prends {} allumettes\".format(nb_ordi))\n",
    "    allumettes = allumettes - nb_ordi"
   ]
  },
  {
   "cell_type": "markdown",
   "metadata": {},
   "source": [
    "2. Améliorer le programme pour qu'il affiche `Vous avez perdu` ou `Vous avez gagné` lorsque la dernière allumette est retirée, juste avant de sortir de la boucle."
   ]
  },
  {
   "cell_type": "code",
   "execution_count": 26,
   "metadata": {},
   "outputs": [
    {
     "name": "stdout",
     "output_type": "stream",
     "text": [
      "---\n",
      "Il y a 21 allumettes\n",
      "Combien en prenez-vous ? 3\n",
      "je prends 3 allumettes\n",
      "---\n",
      "Il y a 15 allumettes\n",
      "Combien en prenez-vous ? 3\n",
      "je prends 2 allumettes\n",
      "---\n",
      "Il y a 10 allumettes\n",
      "Combien en prenez-vous ? 3\n",
      "je prends 3 allumettes\n",
      "---\n",
      "Il y a 4 allumettes\n",
      "Combien en prenez-vous ? 3\n",
      "je prends 1 allumettes\n",
      "Vous avez gagné !\n"
     ]
    }
   ],
   "source": [
    "# Compléter votre code ici\n",
    "import random\n",
    "allumettes = 21\n",
    "while allumettes > 0 :\n",
    "    print(\"---\\nIl y a {} allumettes\".format(allumettes))\n",
    "    # choix du joueur\n",
    "    nb_joueur = int(input(\"Combien en prenez-vous ? \"))\n",
    "    allumettes = allumettes - nb_joueur\n",
    "    # choix de l'ordinateur\n",
    "    if allumettes >= 3:\n",
    "        nb_ordi = random.randint(1,3)\n",
    "    elif allumettes == 2:\n",
    "        nb_ordi = random.randint(1,2)\n",
    "    elif allumettes == 1:\n",
    "        nb_ordi = 1\n",
    "    else :\n",
    "        nb_ordi = 0\n",
    "    print(\"je prends {} allumettes\".format(nb_ordi))\n",
    "    allumettes = allumettes - nb_ordi\n",
    "    # test de fin de partie\n",
    "    if allumettes == 0:\n",
    "        if nb_ordi == 0 :\n",
    "            print(\"Vous avez perdu !\")\n",
    "        else :\n",
    "            print(\"Vous avez gagné !\")            "
   ]
  },
  {
   "cell_type": "markdown",
   "metadata": {},
   "source": [
    "3. Améliorer encore le programme pour qu'il s'assure que le nombre d'allumettes choisi par le joueur est bien au moins égal à un, au plus égal à trois et pas plus grand que le nombre d'allumettes restantes. On pourra utiliser une boucle `while` pour répéter la saisie tant que la valeur n'est pas correcte."
   ]
  },
  {
   "cell_type": "code",
   "execution_count": 27,
   "metadata": {},
   "outputs": [
    {
     "name": "stdout",
     "output_type": "stream",
     "text": [
      "---\n",
      "Il y a 21 allumettes\n",
      "Combien en prenez-vous ? 3\n",
      "je prends 2 allumettes\n",
      "---\n",
      "Il y a 16 allumettes\n",
      "Combien en prenez-vous ? 24\n",
      "Combien en prenez-vous ? -1\n",
      "Combien en prenez-vous ? 3\n",
      "je prends 1 allumettes\n",
      "---\n",
      "Il y a 12 allumettes\n",
      "Combien en prenez-vous ? 3\n",
      "je prends 3 allumettes\n",
      "---\n",
      "Il y a 6 allumettes\n",
      "Combien en prenez-vous ? 1\n",
      "je prends 1 allumettes\n",
      "---\n",
      "Il y a 4 allumettes\n",
      "Combien en prenez-vous ? 3\n",
      "je prends 1 allumettes\n",
      "Vous avez gagné !\n"
     ]
    }
   ],
   "source": [
    "# Compléter votre code ici\n",
    "import random\n",
    "allumettes = 21\n",
    "while allumettes > 0 :\n",
    "    print(\"---\\nIl y a {} allumettes\".format(allumettes))\n",
    "    # choix du joueur\n",
    "    nb_joueur = int(input(\"Combien en prenez-vous ? \"))\n",
    "    while nb_joueur <1 or nb_joueur >3 or nb_joueur > allumettes :\n",
    "        nb_joueur = int(input(\"Combien en prenez-vous ? \"))        \n",
    "    allumettes = allumettes - nb_joueur\n",
    "    # choix de l'ordinateur\n",
    "    if allumettes >= 3:\n",
    "        nb_ordi = random.randint(1,3)\n",
    "    elif allumettes == 2:\n",
    "        nb_ordi = random.randint(1,2)\n",
    "    elif allumettes == 1:\n",
    "        nb_ordi = 1\n",
    "    else :\n",
    "        nb_ordi = 0\n",
    "    print(\"je prends {} allumettes\".format(nb_ordi))\n",
    "    allumettes = allumettes - nb_ordi\n",
    "    # test de fin de partie\n",
    "    if allumettes == 0:\n",
    "        if nb_ordi == 0 :\n",
    "            print(\"Vous avez perdu !\")\n",
    "        else :\n",
    "            print(\"Vous avez gagné !\")        "
   ]
  },
  {
   "cell_type": "markdown",
   "metadata": {},
   "source": [
    "4. Il se trouve qu'il existe une stratégie gagnante pour le joueur qui joue en second. La trouver et la programmer, de manière à ce que l'ordinateur gagne systématiquement (et impressionner vos amis avec votre programme d'\"intelligence artificielle\")."
   ]
  },
  {
   "cell_type": "code",
   "execution_count": 28,
   "metadata": {},
   "outputs": [
    {
     "name": "stdout",
     "output_type": "stream",
     "text": [
      "---\n",
      "Il y a 21 allumettes\n",
      "Combien en prenez-vous ? 3\n",
      "je prends 1 allumettes\n",
      "---\n",
      "Il y a 17 allumettes\n",
      "Combien en prenez-vous ? 1\n",
      "je prends 3 allumettes\n",
      "---\n",
      "Il y a 13 allumettes\n",
      "Combien en prenez-vous ? 2\n",
      "je prends 2 allumettes\n",
      "---\n",
      "Il y a 9 allumettes\n",
      "Combien en prenez-vous ? 1\n",
      "je prends 3 allumettes\n",
      "---\n",
      "Il y a 5 allumettes\n",
      "Combien en prenez-vous ? 3\n",
      "je prends 1 allumettes\n",
      "---\n",
      "Il y a 1 allumettes\n",
      "Combien en prenez-vous ? 1\n",
      "je prends 0 allumettes\n",
      "Vous avez perdu !\n"
     ]
    }
   ],
   "source": [
    "# Compléter votre code ici\n",
    "import random\n",
    "allumettes = 21\n",
    "while allumettes > 0 :\n",
    "    print(\"---\\nIl y a {} allumettes\".format(allumettes))\n",
    "    # choix du joueur\n",
    "    nb_joueur = int(input(\"Combien en prenez-vous ? \"))\n",
    "    while nb_joueur <1 or nb_joueur >3 or nb_joueur > allumettes :\n",
    "        nb_joueur = int(input(\"Combien en prenez-vous ? \"))        \n",
    "    allumettes = allumettes - nb_joueur\n",
    "    # choix de l'ordinateur --> IA pour ne pas perdre !\n",
    "    # il faut s'arranger pour laisser 1,5,9,13,17 ou 21 allumettes à l'autre joueur pour le faire perdre\n",
    "    # Si ça nous arrive c'est nous qui perdons.\n",
    "    if allumettes > 17 :\n",
    "        nb_ordi = allumettes - 17\n",
    "    elif allumettes > 13 :\n",
    "        nb_ordi = allumettes - 13\n",
    "    elif allumettes > 9 :\n",
    "        nb_ordi = allumettes - 9\n",
    "    elif allumettes > 5 :\n",
    "        nb_ordi = allumettes - 5\n",
    "    elif allumettes > 1 :\n",
    "        nb_ordi = allumettes - 1\n",
    "    else :\n",
    "        nb_ordi = 0\n",
    "    print(\"je prends {} allumettes\".format(nb_ordi))\n",
    "    allumettes = allumettes - nb_ordi\n",
    "    # test de fin de partie\n",
    "    if allumettes == 0:\n",
    "        if nb_ordi == 0 :\n",
    "            print(\"Vous avez perdu !\")\n",
    "        else :\n",
    "            print(\"Vous avez gagné !\")           "
   ]
  },
  {
   "cell_type": "markdown",
   "metadata": {},
   "source": [
    "## Exercice 11\n",
    "1. Ecrire un programme qui demande à l'utilisateur un nombre entier positif, puis détermine et affiche les bits obtenus par divisions euclidienne successives par 2. Exemple : si on saisit 13, on doit afficher 1, puis 0, puis 1, puis 1 (ce qui correspond bien à 1101)"
   ]
  },
  {
   "cell_type": "code",
   "execution_count": 30,
   "metadata": {},
   "outputs": [
    {
     "name": "stdout",
     "output_type": "stream",
     "text": [
      "Saisissez un nombre entier positif : 13\n",
      "1\n",
      "0\n",
      "1\n",
      "1\n"
     ]
    }
   ],
   "source": [
    "# Compléter votre code ici\n",
    "nb = int(input(\"Saisissez un nombre entier positif : \"))\n",
    "r = nb%2\n",
    "q = nb//2\n",
    "print(r)\n",
    "while q!=0 :\n",
    "    r = q%2\n",
    "    q = q//2\n",
    "    print(r)"
   ]
  },
  {
   "cell_type": "markdown",
   "metadata": {},
   "source": [
    "2. Modifier le programme précédent pour pouvoir afficher le nombre dans le bon ordre et en une seule fois (dans l'exemple précédent, on doit donc afficher 1011)."
   ]
  },
  {
   "cell_type": "code",
   "execution_count": 31,
   "metadata": {},
   "outputs": [
    {
     "name": "stdout",
     "output_type": "stream",
     "text": [
      "Saisissez un nombre entier positif : 13\n",
      "1101\n"
     ]
    }
   ],
   "source": [
    "# Compléter votre code ici\n",
    "nb = int(input(\"Saisissez un nombre entier positif : \"))\n",
    "res = \"\"\n",
    "r = nb%2\n",
    "q = nb//2\n",
    "res =  str(r) + res\n",
    "while q!=0 :\n",
    "    r = q%2\n",
    "    q = q//2\n",
    "    res = str(r) + res\n",
    "print(res)"
   ]
  },
  {
   "cell_type": "code",
   "execution_count": null,
   "metadata": {},
   "outputs": [],
   "source": []
  }
 ],
 "metadata": {
  "kernelspec": {
   "display_name": "Python 3",
   "language": "python",
   "name": "python3"
  },
  "language_info": {
   "codemirror_mode": {
    "name": "ipython",
    "version": 3
   },
   "file_extension": ".py",
   "mimetype": "text/x-python",
   "name": "python",
   "nbconvert_exporter": "python",
   "pygments_lexer": "ipython3",
   "version": "3.8.3"
  }
 },
 "nbformat": 4,
 "nbformat_minor": 4
}
